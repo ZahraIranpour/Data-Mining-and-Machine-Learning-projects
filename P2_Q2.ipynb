{
 "cells": [
  {
   "cell_type": "markdown",
   "id": "c68ada9a",
   "metadata": {},
   "source": [
    "# Q2"
   ]
  },
  {
   "cell_type": "code",
   "execution_count": 1,
   "id": "30ef8efe",
   "metadata": {},
   "outputs": [],
   "source": [
    "# import libraries\n",
    "\n",
    "import numpy as np\n",
    "import itertools"
   ]
  },
  {
   "cell_type": "code",
   "execution_count": 2,
   "id": "593f8074",
   "metadata": {},
   "outputs": [],
   "source": [
    "class McCulloch_Pitts_neuron():\n",
    "\n",
    "  def __init__(self , weights , threshold):\n",
    "    self.weights = weights    #define weights\n",
    "    self.threshold = threshold    #define threshold\n",
    "\n",
    "  def model(self , x):\n",
    "    if self.weights @ x >= self.threshold:\n",
    "        return 1\n",
    "    else:\n",
    "        return 0"
   ]
  },
  {
   "cell_type": "code",
   "execution_count": 3,
   "id": "e206bb29",
   "metadata": {},
   "outputs": [],
   "source": [
    "input = [0,1]\n",
    "\n",
    "X = list(itertools.product(input, input, input, input))"
   ]
  },
  {
   "cell_type": "code",
   "execution_count": 4,
   "id": "6563bb89",
   "metadata": {},
   "outputs": [
    {
     "name": "stdout",
     "output_type": "stream",
     "text": [
      "y0 for input: 0 0 0 0, is: 0\n",
      "y0 for input: 0 0 0 1, is: 0\n",
      "y0 for input: 0 0 1 0, is: 0\n",
      "y0 for input: 0 0 1 1, is: 0\n",
      "y0 for input: 0 1 0 0, is: 0\n",
      "y0 for input: 0 1 0 1, is: 1\n",
      "y0 for input: 0 1 1 0, is: 0\n",
      "y0 for input: 0 1 1 1, is: 1\n",
      "y0 for input: 1 0 0 0, is: 0\n",
      "y0 for input: 1 0 0 1, is: 0\n",
      "y0 for input: 1 0 1 0, is: 0\n",
      "y0 for input: 1 0 1 1, is: 0\n",
      "y0 for input: 1 1 0 0, is: 0\n",
      "y0 for input: 1 1 0 1, is: 1\n",
      "y0 for input: 1 1 1 0, is: 0\n",
      "y0 for input: 1 1 1 1, is: 1\n"
     ]
    }
   ],
   "source": [
    "def y0(input):\n",
    "\n",
    "  neur1 = McCulloch_Pitts_neuron([1,1],1.5)\n",
    "\n",
    "  z1 = neur1.model(np.array([input[1],input[3]]))\n",
    "\n",
    "  return list([z1])\n",
    "\n",
    "for i in X:\n",
    "    res = y0(i)\n",
    "    print(\"y0 for input:\", str(i[0]) + str(\" \")+str(i[1])+ str(\" \")+str(i[2])+ str(\" \")+str(i[3])+str(\",\"), \"is:\", str(res[0]))"
   ]
  },
  {
   "cell_type": "code",
   "execution_count": 5,
   "id": "ce7e0d18",
   "metadata": {},
   "outputs": [
    {
     "name": "stdout",
     "output_type": "stream",
     "text": [
      "y1 for input: 0 0 0 0, is: 0\n",
      "y1 for input: 0 0 0 1, is: 0\n",
      "y1 for input: 0 0 1 0, is: 0\n",
      "y1 for input: 0 0 1 1, is: 0\n",
      "y1 for input: 0 1 0 0, is: 0\n",
      "y1 for input: 0 1 0 1, is: 0\n",
      "y1 for input: 0 1 1 0, is: 1\n",
      "y1 for input: 0 1 1 1, is: 1\n",
      "y1 for input: 1 0 0 0, is: 0\n",
      "y1 for input: 1 0 0 1, is: 1\n",
      "y1 for input: 1 0 1 0, is: 0\n",
      "y1 for input: 1 0 1 1, is: 1\n",
      "y1 for input: 1 1 0 0, is: 0\n",
      "y1 for input: 1 1 0 1, is: 1\n",
      "y1 for input: 1 1 1 0, is: 1\n",
      "y1 for input: 1 1 1 1, is: 0\n"
     ]
    }
   ],
   "source": [
    "def y1(input):\n",
    "\n",
    "  neur2 = McCulloch_Pitts_neuron([1,-1, 0,1], 1.5)\n",
    "  neur3 = McCulloch_Pitts_neuron([1,0, -1,1], 1.5)\n",
    "  neur4 = McCulloch_Pitts_neuron([0,1,1,-1], 1.5)\n",
    "  neur5 = McCulloch_Pitts_neuron([-1,1,1,0], 1.5)\n",
    "  neur6 = McCulloch_Pitts_neuron([1,1,1,1], 0.5)\n",
    "\n",
    "  z2 = neur2.model(np.array([input[0], input[1],input[2],input[3]]))\n",
    "  z3 = neur3.model(np.array([input[0], input[1],input[2],input[3]]))\n",
    "  z4 = neur4.model(np.array([input[0], input[1],input[2],input[3]]))\n",
    "  z5 = neur5.model(np.array([input[0], input[1],input[2],input[3]]))\n",
    "  z6 = neur6.model(np.array([z2,z3,z4,z5]))\n",
    "\n",
    "  return list([z6])\n",
    "\n",
    "for i in X:\n",
    "    res = y1(i)\n",
    "    print(\"y1 for input:\", str(i[0]) + str(\" \")+str(i[1])+ str(\" \")+str(i[2])+ str(\" \")+str(i[3])+str(\",\"), \"is:\", str(res[0]))"
   ]
  },
  {
   "cell_type": "code",
   "execution_count": 6,
   "id": "29a87f56",
   "metadata": {},
   "outputs": [
    {
     "name": "stdout",
     "output_type": "stream",
     "text": [
      "y2 for input: 0 0 0 0, is: 0\n",
      "y2 for input: 0 0 0 1, is: 0\n",
      "y2 for input: 0 0 1 0, is: 0\n",
      "y2 for input: 0 0 1 1, is: 0\n",
      "y2 for input: 0 1 0 0, is: 0\n",
      "y2 for input: 0 1 0 1, is: 0\n",
      "y2 for input: 0 1 1 0, is: 0\n",
      "y2 for input: 0 1 1 1, is: 0\n",
      "y2 for input: 1 0 0 0, is: 0\n",
      "y2 for input: 1 0 0 1, is: 0\n",
      "y2 for input: 1 0 1 0, is: 1\n",
      "y2 for input: 1 0 1 1, is: 1\n",
      "y2 for input: 1 1 0 0, is: 0\n",
      "y2 for input: 1 1 0 1, is: 0\n",
      "y2 for input: 1 1 1 0, is: 1\n",
      "y2 for input: 1 1 1 1, is: 0\n"
     ]
    }
   ],
   "source": [
    "def y2(input):\n",
    "\n",
    "  neur7 = McCulloch_Pitts_neuron([1,0,1,-1], 1.5)\n",
    "  neur8 = McCulloch_Pitts_neuron([1,-1,1,0], 1.5)\n",
    "  neur9 = McCulloch_Pitts_neuron([1,1], 0.5)\n",
    "\n",
    "  z7 = neur7.model(np.array([input[0], input[1],input[2],input[3]]))\n",
    "  z8 = neur8.model(np.array([input[0], input[1],input[2],input[3]]))\n",
    "  z9 = neur9.model(np.array([z7,z8]))\n",
    "\n",
    "  return list([z9])\n",
    "\n",
    "for i in X:\n",
    "    res = y2(i)\n",
    "    print(\"y2 for input:\", str(i[0]) + str(\" \")+str(i[1])+ str(\" \")+str(i[2])+ str(\" \")+str(i[3])+str(\",\"), \"is:\", str(res[0]))"
   ]
  },
  {
   "cell_type": "code",
   "execution_count": 7,
   "id": "3b2073ea",
   "metadata": {},
   "outputs": [
    {
     "name": "stdout",
     "output_type": "stream",
     "text": [
      "y3 for input: 0 0 0 0, is: 0\n",
      "y3 for input: 0 0 0 1, is: 0\n",
      "y3 for input: 0 0 1 0, is: 0\n",
      "y3 for input: 0 0 1 1, is: 0\n",
      "y3 for input: 0 1 0 0, is: 0\n",
      "y3 for input: 0 1 0 1, is: 0\n",
      "y3 for input: 0 1 1 0, is: 0\n",
      "y3 for input: 0 1 1 1, is: 0\n",
      "y3 for input: 1 0 0 0, is: 0\n",
      "y3 for input: 1 0 0 1, is: 0\n",
      "y3 for input: 1 0 1 0, is: 0\n",
      "y3 for input: 1 0 1 1, is: 0\n",
      "y3 for input: 1 1 0 0, is: 0\n",
      "y3 for input: 1 1 0 1, is: 0\n",
      "y3 for input: 1 1 1 0, is: 0\n",
      "y3 for input: 1 1 1 1, is: 1\n"
     ]
    }
   ],
   "source": [
    "def y3(input):\n",
    "\n",
    "  neur10 = McCulloch_Pitts_neuron([1,1,1,1], 3.5)\n",
    "\n",
    "  z10 = neur10.model(np.array([input[0], input[1],input[2],input[3]]))\n",
    "\n",
    "  return list([z10])\n",
    "\n",
    "for i in X:\n",
    "    res = y3(i)\n",
    "    print(\"y3 for input:\", str(i[0]) + str(\" \")+str(i[1])+ str(\" \")+str(i[2])+ str(\" \")+str(i[3])+str(\",\"), \"is:\", str(res[0]))"
   ]
  }
 ],
 "metadata": {
  "kernelspec": {
   "display_name": "Python 3 (ipykernel)",
   "language": "python",
   "name": "python3"
  },
  "language_info": {
   "codemirror_mode": {
    "name": "ipython",
    "version": 3
   },
   "file_extension": ".py",
   "mimetype": "text/x-python",
   "name": "python",
   "nbconvert_exporter": "python",
   "pygments_lexer": "ipython3",
   "version": "3.10.9"
  }
 },
 "nbformat": 4,
 "nbformat_minor": 5
}
